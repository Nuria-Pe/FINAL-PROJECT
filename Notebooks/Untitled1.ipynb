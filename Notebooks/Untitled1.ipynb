{
 "cells": [
  {
   "cell_type": "code",
   "execution_count": 2,
   "metadata": {},
   "outputs": [],
   "source": [
    "import requests\n",
    "import datetime\n",
    "from urllib.parse import urlencode\n",
    "import base64"
   ]
  },
  {
   "cell_type": "code",
   "execution_count": 7,
   "metadata": {},
   "outputs": [],
   "source": [
    "client_id = '45844a803da249adae64a637787bfd7e'\n",
    "client_secret = 'dc6e854038474d0ab8ed4faacc9d3080'"
   ]
  },
  {
   "cell_type": "code",
   "execution_count": 8,
   "metadata": {},
   "outputs": [],
   "source": [
    "class SpotifyAPI(object):\n",
    "    access_token = None\n",
    "    access_token_expires = datetime.datetime.now()\n",
    "    access_token_did_expire = True\n",
    "    client_id = None\n",
    "    client_secret = None\n",
    "    token_url = \"https://accounts.spotify.com/api/token\"\n",
    "    \n",
    "    def __init__(self, client_id, client_secret, *args, **kwargs):\n",
    "        super().__init__(*args, **kwargs)\n",
    "        self.client_id = client_id\n",
    "        self.client_secret = client_secret\n",
    "\n",
    "    def get_client_credentials(self):\n",
    "        \"\"\"\n",
    "        Returns a base64 encoded string\n",
    "        \"\"\"\n",
    "        client_id = self.client_id\n",
    "        client_secret = self.client_secret\n",
    "        if client_secret == None or client_id == None:\n",
    "            raise Exception(\"You must set client_id and client_secret\")\n",
    "        client_creds = f\"{client_id}:{client_secret}\"\n",
    "        client_creds_b64 = base64.b64encode(client_creds.encode())\n",
    "        return client_creds_b64.decode()\n",
    "    \n",
    "    def get_token_headers(self):\n",
    "        client_creds_b64 = self.get_client_credentials()\n",
    "        return {\n",
    "            \"Authorization\": f\"Basic {client_creds_b64}\"\n",
    "        }\n",
    "    \n",
    "    def get_token_data(self):\n",
    "        return {\n",
    "            \"grant_type\": \"client_credentials\"\n",
    "        } \n",
    "    \n",
    "    def perform_auth(self):\n",
    "        token_url = self.token_url\n",
    "        token_data = self.get_token_data()\n",
    "        token_headers = self.get_token_headers()\n",
    "        r = requests.post(token_url, data=token_data, headers=token_headers)\n",
    "        if r.status_code not in range(200, 299):\n",
    "            raise Exception(\"Could not authenticate client.\")\n",
    "            # return False\n",
    "        data = r.json()\n",
    "        now = datetime.datetime.now()\n",
    "        access_token = data['access_token']\n",
    "        expires_in = data['expires_in'] # seconds\n",
    "        expires = now + datetime.timedelta(seconds=expires_in)\n",
    "        self.access_token = access_token\n",
    "        self.access_token_expires = expires\n",
    "        self.access_token_did_expire = expires < now\n",
    "        return True\n",
    "    \n",
    "    def get_access_token(self):\n",
    "        token = self.access_token\n",
    "        expires = self.access_token_expires\n",
    "        now = datetime.datetime.now()\n",
    "        if expires < now:\n",
    "            self.perform_auth()\n",
    "            return self.get_access_token()\n",
    "        elif token == None:\n",
    "            self.perform_auth()\n",
    "            return self.get_access_token() \n",
    "        return token\n",
    "    \n",
    "    def get_resource_header(self):\n",
    "        access_token = self.get_access_token()\n",
    "        headers = {\n",
    "            \"Authorization\": f\"Bearer {access_token}\"\n",
    "        }\n",
    "        return headers\n",
    "        \n",
    "        \n",
    "    def get_resource(self, lookup_id, resource_type='albums', version='v1'):\n",
    "        endpoint = f\"https://api.spotify.com/{version}/{resource_type}/{lookup_id}\"\n",
    "        headers = self.get_resource_header()\n",
    "        r = requests.get(endpoint, headers=headers)\n",
    "        if r.status_code not in range(200, 299):\n",
    "            return {}\n",
    "        return r.json()\n",
    "    \n",
    "    def get_album(self, _id):\n",
    "        return self.get_resource(_id, resource_type='albums')\n",
    "    \n",
    "    def get_artist(self, _id):\n",
    "        return self.get_resource(_id, resource_type='artists')\n",
    "    \n",
    "    def search(self, query, search_type='artist' ): # type\n",
    "        headers = self.get_resource_header()\n",
    "        endpoint = \"https://api.spotify.com/v1/search\"\n",
    "        data = urlencode({\"q\": query, \"type\": search_type.lower()})\n",
    "        lookup_url = f\"{endpoint}?{data}\"\n",
    "        r = requests.get(lookup_url, headers=headers)\n",
    "        if r.status_code not in range(200, 299):  \n",
    "            return {}\n",
    "        return r.json()"
   ]
  },
  {
   "cell_type": "code",
   "execution_count": 9,
   "metadata": {},
   "outputs": [],
   "source": [
    "spotify = SpotifyAPI(client_id, client_secret)"
   ]
  },
  {
   "cell_type": "code",
   "execution_count": 12,
   "metadata": {},
   "outputs": [
    {
     "ename": "Exception",
     "evalue": "Could not authenticate client.",
     "output_type": "error",
     "traceback": [
      "\u001b[0;31m---------------------------------------------------------------------------\u001b[0m",
      "\u001b[0;31mException\u001b[0m                                 Traceback (most recent call last)",
      "\u001b[0;32m<ipython-input-12-72bd8f6d3ac9>\u001b[0m in \u001b[0;36m<module>\u001b[0;34m\u001b[0m\n\u001b[0;32m----> 1\u001b[0;31m \u001b[0mspotify\u001b[0m\u001b[0;34m.\u001b[0m\u001b[0msearch\u001b[0m\u001b[0;34m(\u001b[0m\u001b[0;34m\"Time\"\u001b[0m\u001b[0;34m,\u001b[0m \u001b[0msearch_type\u001b[0m\u001b[0;34m=\u001b[0m\u001b[0;34m\"track\"\u001b[0m\u001b[0;34m)\u001b[0m\u001b[0;34m\u001b[0m\u001b[0;34m\u001b[0m\u001b[0m\n\u001b[0m",
      "\u001b[0;32m<ipython-input-8-90448b4145ee>\u001b[0m in \u001b[0;36msearch\u001b[0;34m(self, query, search_type)\u001b[0m\n\u001b[1;32m     88\u001b[0m \u001b[0;34m\u001b[0m\u001b[0m\n\u001b[1;32m     89\u001b[0m     \u001b[0;32mdef\u001b[0m \u001b[0msearch\u001b[0m\u001b[0;34m(\u001b[0m\u001b[0mself\u001b[0m\u001b[0;34m,\u001b[0m \u001b[0mquery\u001b[0m\u001b[0;34m,\u001b[0m \u001b[0msearch_type\u001b[0m\u001b[0;34m=\u001b[0m\u001b[0;34m'artist'\u001b[0m \u001b[0;34m)\u001b[0m\u001b[0;34m:\u001b[0m \u001b[0;31m# type\u001b[0m\u001b[0;34m\u001b[0m\u001b[0;34m\u001b[0m\u001b[0m\n\u001b[0;32m---> 90\u001b[0;31m         \u001b[0mheaders\u001b[0m \u001b[0;34m=\u001b[0m \u001b[0mself\u001b[0m\u001b[0;34m.\u001b[0m\u001b[0mget_resource_header\u001b[0m\u001b[0;34m(\u001b[0m\u001b[0;34m)\u001b[0m\u001b[0;34m\u001b[0m\u001b[0;34m\u001b[0m\u001b[0m\n\u001b[0m\u001b[1;32m     91\u001b[0m         \u001b[0mendpoint\u001b[0m \u001b[0;34m=\u001b[0m \u001b[0;34m\"https://api.spotify.com/v1/search\"\u001b[0m\u001b[0;34m\u001b[0m\u001b[0;34m\u001b[0m\u001b[0m\n\u001b[1;32m     92\u001b[0m         \u001b[0mdata\u001b[0m \u001b[0;34m=\u001b[0m \u001b[0murlencode\u001b[0m\u001b[0;34m(\u001b[0m\u001b[0;34m{\u001b[0m\u001b[0;34m\"q\"\u001b[0m\u001b[0;34m:\u001b[0m \u001b[0mquery\u001b[0m\u001b[0;34m,\u001b[0m \u001b[0;34m\"type\"\u001b[0m\u001b[0;34m:\u001b[0m \u001b[0msearch_type\u001b[0m\u001b[0;34m.\u001b[0m\u001b[0mlower\u001b[0m\u001b[0;34m(\u001b[0m\u001b[0;34m)\u001b[0m\u001b[0;34m}\u001b[0m\u001b[0;34m)\u001b[0m\u001b[0;34m\u001b[0m\u001b[0;34m\u001b[0m\u001b[0m\n",
      "\u001b[0;32m<ipython-input-8-90448b4145ee>\u001b[0m in \u001b[0;36mget_resource_header\u001b[0;34m(self)\u001b[0m\n\u001b[1;32m     66\u001b[0m \u001b[0;34m\u001b[0m\u001b[0m\n\u001b[1;32m     67\u001b[0m     \u001b[0;32mdef\u001b[0m \u001b[0mget_resource_header\u001b[0m\u001b[0;34m(\u001b[0m\u001b[0mself\u001b[0m\u001b[0;34m)\u001b[0m\u001b[0;34m:\u001b[0m\u001b[0;34m\u001b[0m\u001b[0;34m\u001b[0m\u001b[0m\n\u001b[0;32m---> 68\u001b[0;31m         \u001b[0maccess_token\u001b[0m \u001b[0;34m=\u001b[0m \u001b[0mself\u001b[0m\u001b[0;34m.\u001b[0m\u001b[0mget_access_token\u001b[0m\u001b[0;34m(\u001b[0m\u001b[0;34m)\u001b[0m\u001b[0;34m\u001b[0m\u001b[0;34m\u001b[0m\u001b[0m\n\u001b[0m\u001b[1;32m     69\u001b[0m         headers = {\n\u001b[1;32m     70\u001b[0m             \u001b[0;34m\"Authorization\"\u001b[0m\u001b[0;34m:\u001b[0m \u001b[0;34mf\"Bearer {access_token}\"\u001b[0m\u001b[0;34m\u001b[0m\u001b[0;34m\u001b[0m\u001b[0m\n",
      "\u001b[0;32m<ipython-input-8-90448b4145ee>\u001b[0m in \u001b[0;36mget_access_token\u001b[0;34m(self)\u001b[0m\n\u001b[1;32m     58\u001b[0m         \u001b[0mnow\u001b[0m \u001b[0;34m=\u001b[0m \u001b[0mdatetime\u001b[0m\u001b[0;34m.\u001b[0m\u001b[0mdatetime\u001b[0m\u001b[0;34m.\u001b[0m\u001b[0mnow\u001b[0m\u001b[0;34m(\u001b[0m\u001b[0;34m)\u001b[0m\u001b[0;34m\u001b[0m\u001b[0;34m\u001b[0m\u001b[0m\n\u001b[1;32m     59\u001b[0m         \u001b[0;32mif\u001b[0m \u001b[0mexpires\u001b[0m \u001b[0;34m<\u001b[0m \u001b[0mnow\u001b[0m\u001b[0;34m:\u001b[0m\u001b[0;34m\u001b[0m\u001b[0;34m\u001b[0m\u001b[0m\n\u001b[0;32m---> 60\u001b[0;31m             \u001b[0mself\u001b[0m\u001b[0;34m.\u001b[0m\u001b[0mperform_auth\u001b[0m\u001b[0;34m(\u001b[0m\u001b[0;34m)\u001b[0m\u001b[0;34m\u001b[0m\u001b[0;34m\u001b[0m\u001b[0m\n\u001b[0m\u001b[1;32m     61\u001b[0m             \u001b[0;32mreturn\u001b[0m \u001b[0mself\u001b[0m\u001b[0;34m.\u001b[0m\u001b[0mget_access_token\u001b[0m\u001b[0;34m(\u001b[0m\u001b[0;34m)\u001b[0m\u001b[0;34m\u001b[0m\u001b[0;34m\u001b[0m\u001b[0m\n\u001b[1;32m     62\u001b[0m         \u001b[0;32melif\u001b[0m \u001b[0mtoken\u001b[0m \u001b[0;34m==\u001b[0m \u001b[0;32mNone\u001b[0m\u001b[0;34m:\u001b[0m\u001b[0;34m\u001b[0m\u001b[0;34m\u001b[0m\u001b[0m\n",
      "\u001b[0;32m<ipython-input-8-90448b4145ee>\u001b[0m in \u001b[0;36mperform_auth\u001b[0;34m(self)\u001b[0m\n\u001b[1;32m     41\u001b[0m         \u001b[0mr\u001b[0m \u001b[0;34m=\u001b[0m \u001b[0mrequests\u001b[0m\u001b[0;34m.\u001b[0m\u001b[0mpost\u001b[0m\u001b[0;34m(\u001b[0m\u001b[0mtoken_url\u001b[0m\u001b[0;34m,\u001b[0m \u001b[0mdata\u001b[0m\u001b[0;34m=\u001b[0m\u001b[0mtoken_data\u001b[0m\u001b[0;34m,\u001b[0m \u001b[0mheaders\u001b[0m\u001b[0;34m=\u001b[0m\u001b[0mtoken_headers\u001b[0m\u001b[0;34m)\u001b[0m\u001b[0;34m\u001b[0m\u001b[0;34m\u001b[0m\u001b[0m\n\u001b[1;32m     42\u001b[0m         \u001b[0;32mif\u001b[0m \u001b[0mr\u001b[0m\u001b[0;34m.\u001b[0m\u001b[0mstatus_code\u001b[0m \u001b[0;32mnot\u001b[0m \u001b[0;32min\u001b[0m \u001b[0mrange\u001b[0m\u001b[0;34m(\u001b[0m\u001b[0;36m200\u001b[0m\u001b[0;34m,\u001b[0m \u001b[0;36m299\u001b[0m\u001b[0;34m)\u001b[0m\u001b[0;34m:\u001b[0m\u001b[0;34m\u001b[0m\u001b[0;34m\u001b[0m\u001b[0m\n\u001b[0;32m---> 43\u001b[0;31m             \u001b[0;32mraise\u001b[0m \u001b[0mException\u001b[0m\u001b[0;34m(\u001b[0m\u001b[0;34m\"Could not authenticate client.\"\u001b[0m\u001b[0;34m)\u001b[0m\u001b[0;34m\u001b[0m\u001b[0;34m\u001b[0m\u001b[0m\n\u001b[0m\u001b[1;32m     44\u001b[0m             \u001b[0;31m# return False\u001b[0m\u001b[0;34m\u001b[0m\u001b[0;34m\u001b[0m\u001b[0;34m\u001b[0m\u001b[0m\n\u001b[1;32m     45\u001b[0m         \u001b[0mdata\u001b[0m \u001b[0;34m=\u001b[0m \u001b[0mr\u001b[0m\u001b[0;34m.\u001b[0m\u001b[0mjson\u001b[0m\u001b[0;34m(\u001b[0m\u001b[0;34m)\u001b[0m\u001b[0;34m\u001b[0m\u001b[0;34m\u001b[0m\u001b[0m\n",
      "\u001b[0;31mException\u001b[0m: Could not authenticate client."
     ]
    }
   ],
   "source": [
    "spotify.search(\"Time\", search_type=\"track\")"
   ]
  },
  {
   "cell_type": "code",
   "execution_count": null,
   "metadata": {},
   "outputs": [],
   "source": []
  }
 ],
 "metadata": {
  "kernelspec": {
   "display_name": "Python 3",
   "language": "python",
   "name": "python3"
  },
  "language_info": {
   "codemirror_mode": {
    "name": "ipython",
    "version": 3
   },
   "file_extension": ".py",
   "mimetype": "text/x-python",
   "name": "python",
   "nbconvert_exporter": "python",
   "pygments_lexer": "ipython3",
   "version": "3.8.5"
  }
 },
 "nbformat": 4,
 "nbformat_minor": 4
}
